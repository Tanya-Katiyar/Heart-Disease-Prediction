{
  "metadata": {
    "kernelspec": {
      "language": "python",
      "display_name": "Python 3",
      "name": "python3"
    },
    "language_info": {
      "name": "python",
      "version": "3.7.9",
      "mimetype": "text/x-python",
      "codemirror_mode": {
        "name": "ipython",
        "version": 3
      },
      "pygments_lexer": "ipython3",
      "nbconvert_exporter": "python",
      "file_extension": ".py"
    },
    "kaggle": {
      "accelerator": "none",
      "dataSources": [
        {
          "sourceId": 43520,
          "sourceType": "datasetVersion",
          "datasetId": 33180
        }
      ],
      "dockerImageVersionId": 30055,
      "isInternetEnabled": false,
      "language": "python",
      "sourceType": "notebook",
      "isGpuEnabled": false
    },
    "colab": {
      "name": "HeartDiseaseML",
      "provenance": [],
      "include_colab_link": true
    }
  },
  "nbformat_minor": 0,
  "nbformat": 4,
  "cells": [
    {
      "cell_type": "markdown",
      "metadata": {
        "id": "view-in-github",
        "colab_type": "text"
      },
      "source": [
        "<a href=\"https://colab.research.google.com/github/Tanya-Katiyar/Heart-Disease-Prediction/blob/main/HeartDiseaseML.ipynb\" target=\"_parent\"><img src=\"https://colab.research.google.com/assets/colab-badge.svg\" alt=\"Open In Colab\"/></a>"
      ]
    },
    {
      "cell_type": "markdown",
      "source": [
        ">Dedicated to my dad and all those who are dealing with it or know someone that does... <3"
      ],
      "metadata": {
        "id": "czyYdEDCNx2J"
      }
    },
    {
      "cell_type": "markdown",
      "source": [
        "This [Data Set](https://www.kaggle.com/ronitf/heart-disease-uci) contains 14 attributes used by Machine Learning researchers to predict the presence of heart disease in a patient."
      ],
      "metadata": {
        "id": "_n0OVNp_Nx2L"
      }
    },
    {
      "cell_type": "code",
      "source": [
        "import sys #access to system parameters https://docs.python.org/3/library/sys.html\n",
        "print(\"Python version: {}\". format(sys.version))\n",
        "import numpy as np # linear algebra\n",
        "print(\"NumPy version: {}\". format(np.__version__))\n",
        "import pandas as pd # data processing, CSV file I/O (e.g. pd.read_csv)\n",
        "print(\"pandas version: {}\". format(pd.__version__))\n",
        "import matplotlib # collection of functions for scientific and publication-ready visualization\n",
        "print(\"matplotlib version: {}\". format(matplotlib.__version__))\n",
        "import matplotlib.pyplot as plt\n",
        "%matplotlib inline\n",
        "import seaborn as sns\n",
        "import warnings # ignore warnings\n",
        "warnings.filterwarnings('ignore')\n",
        "import os\n",
        "for dirname, _, filenames in os.walk('/kaggle/input'):\n",
        "    for filename in filenames:\n",
        "        print(os.path.join(dirname, filename))"
      ],
      "metadata": {
        "_uuid": "8f2839f25d086af736a60e9eeb907d3b93b6e0e5",
        "_cell_guid": "b1076dfc-b9ad-4769-8c92-a6c4dae69d19",
        "execution": {
          "iopub.status.busy": "2024-03-27T09:10:10.11947Z",
          "iopub.execute_input": "2024-03-27T09:10:10.120093Z",
          "iopub.status.idle": "2024-03-27T09:10:10.952066Z",
          "shell.execute_reply.started": "2024-03-27T09:10:10.119987Z",
          "shell.execute_reply": "2024-03-27T09:10:10.950425Z"
        },
        "trusted": true,
        "id": "0y37B_P6Nx2L"
      },
      "execution_count": null,
      "outputs": []
    },
    {
      "cell_type": "code",
      "source": [
        "df = pd.read_csv('/kaggle/input/heart-disease-uci/heart.csv')\n",
        "df.shape"
      ],
      "metadata": {
        "trusted": true,
        "id": "d41XkgH_Nx2M"
      },
      "execution_count": null,
      "outputs": []
    },
    {
      "cell_type": "code",
      "source": [
        "df.head(3)"
      ],
      "metadata": {
        "trusted": true,
        "id": "sRJBhIxsNx2M"
      },
      "execution_count": null,
      "outputs": []
    },
    {
      "cell_type": "markdown",
      "source": [
        "Columns description:\n",
        "- age: age in years\n",
        "- sex: (1 = male; 0 = female)\n",
        "- cp: chest pain type\n",
        "- trestbps: resting blood pressure (in mm Hg on admission to the hospital)\n",
        "- chol: serum cholestoral in mg/dl\n",
        "- fbs: (fasting blood sugar > 120 mg/dl) (1 = true; 0 = false)\n",
        "- restecg: resting electrocardiographic results\n",
        "- thalach: maximum heart rate achieved\n",
        "- exang: exercise induced angina (1 = yes; 0 = no)\n",
        "- oldpeak: ST depression induced by exercise relative to rest\n",
        "- slope: the slope of the peak exercise ST segment\n",
        "- ca: number of major vessels (0-3) colored by flourosopy\n",
        "- thal: 3 = normal; 6 = fixed defect; 7 = reversable defect\n",
        "- target: refers to the presence of heart disease in the patient (1=yes, 0=no)"
      ],
      "metadata": {
        "id": "wYhRwsCQNx2N"
      }
    },
    {
      "cell_type": "code",
      "source": [
        "df.target.value_counts() # df.target.unique()"
      ],
      "metadata": {
        "execution": {
          "iopub.status.busy": "2023-12-22T19:32:07.786102Z",
          "iopub.execute_input": "2023-12-22T19:32:07.786848Z",
          "iopub.status.idle": "2023-12-22T19:32:07.801327Z",
          "shell.execute_reply.started": "2023-12-22T19:32:07.786803Z",
          "shell.execute_reply": "2023-12-22T19:32:07.80046Z"
        },
        "trusted": true,
        "id": "pPfe17ksNx2N"
      },
      "execution_count": null,
      "outputs": []
    },
    {
      "cell_type": "code",
      "source": [
        "disease = len(df[df['target'] == 1])\n",
        "no_disease = len(df[df['target']== 0])"
      ],
      "metadata": {
        "trusted": true,
        "id": "K5MUe-wGNx2N"
      },
      "execution_count": null,
      "outputs": []
    },
    {
      "cell_type": "code",
      "source": [
        "import matplotlib.pyplot as plt\n",
        "plt.rcdefaults()\n",
        "fig, ax = plt.subplots()\n",
        "y = ('Heart Disease', 'No Disease')\n",
        "y_pos = np.arange(len(y))\n",
        "x = (disease, no_disease)\n",
        "ax.barh(y_pos, x, align='center')\n",
        "ax.set_yticks(y_pos)\n",
        "ax.set_yticklabels(y)\n",
        "ax.invert_yaxis() # labels read top-to-bottom\n",
        "ax.set_xlabel('Count')\n",
        "ax.set_title('Target')\n",
        "for i, v in enumerate(x):\n",
        "    ax.text(v + 10, i, str(v), color='black', va='center', fontweight='normal')\n",
        "plt.show()"
      ],
      "metadata": {
        "execution": {
          "iopub.status.busy": "2023-12-22T19:32:18.246121Z",
          "iopub.execute_input": "2023-12-22T19:32:18.246823Z",
          "iopub.status.idle": "2023-12-22T19:32:18.455203Z",
          "shell.execute_reply.started": "2023-12-22T19:32:18.246782Z",
          "shell.execute_reply": "2023-12-22T19:32:18.454275Z"
        },
        "trusted": true,
        "id": "0WrMinlUNx2O"
      },
      "execution_count": null,
      "outputs": []
    },
    {
      "cell_type": "code",
      "source": [
        "import matplotlib.pyplot as plt\n",
        "y = ('Heart Disease', 'No Disease')\n",
        "y_pos = np.arange(len(y))\n",
        "x = (disease, no_disease)\n",
        "labels = 'Heart Disease', 'No Disease'\n",
        "sizes = [disease, no_disease]\n",
        "fig1, ax1 = plt.subplots()\n",
        "ax1.pie(sizes,  labels=labels, autopct='%1.1f%%', startangle=90)\n",
        "ax1.axis('equal')  # Equal aspect ratio ensures that pie is drawn as a circle.\n",
        "plt.title('Percentage of target', size=16)\n",
        "plt.show()"
      ],
      "metadata": {
        "trusted": true,
        "id": "9wnwpFQINx2O"
      },
      "execution_count": null,
      "outputs": []
    },
    {
      "cell_type": "code",
      "source": [
        "df.isna().sum() # missing values"
      ],
      "metadata": {
        "execution": {
          "iopub.status.busy": "2023-12-22T19:32:39.044069Z",
          "iopub.execute_input": "2023-12-22T19:32:39.044791Z",
          "iopub.status.idle": "2023-12-22T19:32:39.057946Z",
          "shell.execute_reply.started": "2023-12-22T19:32:39.044748Z",
          "shell.execute_reply": "2023-12-22T19:32:39.057113Z"
        },
        "trusted": true,
        "id": "2CHgAhbUNx2O"
      },
      "execution_count": null,
      "outputs": []
    },
    {
      "cell_type": "code",
      "source": [
        "qualitative = []\n",
        "quantitative = []\n",
        "for feature in df.columns:\n",
        "    if len(df[feature].unique()) <= 8:\n",
        "        qualitative.append(feature)\n",
        "    else:\n",
        "        quantitative.append(feature)"
      ],
      "metadata": {
        "execution": {
          "iopub.status.busy": "2023-12-22T19:32:43.466167Z",
          "iopub.execute_input": "2023-12-22T19:32:43.466609Z",
          "iopub.status.idle": "2023-12-22T19:32:43.479481Z",
          "shell.execute_reply.started": "2023-12-22T19:32:43.466568Z",
          "shell.execute_reply": "2023-12-22T19:32:43.478475Z"
        },
        "trusted": true,
        "id": "0jJBGJ0iNx2P"
      },
      "execution_count": null,
      "outputs": []
    },
    {
      "cell_type": "code",
      "source": [
        "qualitative"
      ],
      "metadata": {
        "execution": {
          "iopub.status.busy": "2023-12-22T19:32:46.90404Z",
          "iopub.execute_input": "2023-12-22T19:32:46.904406Z",
          "iopub.status.idle": "2023-12-22T19:32:46.910324Z",
          "shell.execute_reply.started": "2023-12-22T19:32:46.904375Z",
          "shell.execute_reply": "2023-12-22T19:32:46.909505Z"
        },
        "trusted": true,
        "id": "LzVU2UiBNx2P"
      },
      "execution_count": null,
      "outputs": []
    },
    {
      "cell_type": "code",
      "source": [
        "quantitative"
      ],
      "metadata": {
        "execution": {
          "iopub.status.busy": "2023-12-22T19:32:49.89414Z",
          "iopub.execute_input": "2023-12-22T19:32:49.894544Z",
          "iopub.status.idle": "2023-12-22T19:32:49.900414Z",
          "shell.execute_reply.started": "2023-12-22T19:32:49.89451Z",
          "shell.execute_reply": "2023-12-22T19:32:49.899561Z"
        },
        "trusted": true,
        "id": "JXAUgZ86Nx2P"
      },
      "execution_count": null,
      "outputs": []
    },
    {
      "cell_type": "code",
      "source": [
        "top = 15\n",
        "corr = df.corr()\n",
        "top15 = corr.nlargest(top, 'target')['target'].index\n",
        "corr_top15 = df[top15].corr()\n",
        "f,ax = plt.subplots(figsize=(10,10))\n",
        "sns.heatmap(corr_top15, square=True, ax=ax, annot=True, cmap='coolwarm', fmt='.2f', annot_kws={'size':12})\n",
        "plt.title('Top correlated features of dataset', size=16)\n",
        "plt.show()\n",
        "\"\"\"\n",
        "corrmat = df.corr()\n",
        "f, ax = plt.subplots(nrows=1, ncols=1, figsize=(15, 15))\n",
        "ax.set_title(\"Correlation Matrix\", fontsize=12)\n",
        "filter = df.columns != 'id'\n",
        "sns.heatmap(df[df.columns[filter]].corr(), vmin=-1, vmax=1, cmap='coolwarm', annot=True)\n",
        "\"\"\""
      ],
      "metadata": {
        "execution": {
          "iopub.status.busy": "2023-12-22T19:32:56.846901Z",
          "iopub.execute_input": "2023-12-22T19:32:56.847383Z",
          "iopub.status.idle": "2023-12-22T19:32:58.631523Z",
          "shell.execute_reply.started": "2023-12-22T19:32:56.84734Z",
          "shell.execute_reply": "2023-12-22T19:32:58.630564Z"
        },
        "trusted": true,
        "id": "3g603LgONx2P"
      },
      "execution_count": null,
      "outputs": []
    },
    {
      "cell_type": "markdown",
      "source": [
        "the variable with the most correlation with target is talach"
      ],
      "metadata": {
        "id": "V8FjBPb0Nx2P"
      }
    },
    {
      "cell_type": "code",
      "source": [
        "ax = sns.distplot(df['thalach']) # histogram distribution"
      ],
      "metadata": {
        "execution": {
          "iopub.status.busy": "2023-12-22T19:34:50.416933Z",
          "iopub.execute_input": "2023-12-22T19:34:50.418055Z",
          "iopub.status.idle": "2023-12-22T19:34:50.671064Z",
          "shell.execute_reply.started": "2023-12-22T19:34:50.417979Z",
          "shell.execute_reply": "2023-12-22T19:34:50.670235Z"
        },
        "trusted": true,
        "id": "_JMDhoA_Nx2Q"
      },
      "execution_count": null,
      "outputs": []
    },
    {
      "cell_type": "code",
      "source": [
        "sns.pairplot(df)"
      ],
      "metadata": {
        "trusted": true,
        "id": "JeWYB88oNx2Q"
      },
      "execution_count": null,
      "outputs": []
    },
    {
      "cell_type": "code",
      "source": [
        "X = df.drop('target',1)\n",
        "y = df['target']\n",
        "print('shape of X and y respectively :', X.shape, y.shape)"
      ],
      "metadata": {
        "execution": {
          "iopub.status.busy": "2023-12-22T19:35:10.996284Z",
          "iopub.execute_input": "2023-12-22T19:35:10.996761Z",
          "iopub.status.idle": "2023-12-22T19:35:11.0102Z",
          "shell.execute_reply.started": "2023-12-22T19:35:10.996721Z",
          "shell.execute_reply": "2023-12-22T19:35:11.009147Z"
        },
        "trusted": true,
        "id": "Vcl1XG8yNx2Q"
      },
      "execution_count": null,
      "outputs": []
    },
    {
      "cell_type": "code",
      "source": [
        "from sklearn.model_selection import train_test_split\n",
        "X_train, X_test, y_train, y_test = train_test_split(X, y, test_size=0.2, random_state=0)\n",
        "print('shape of X and y respectively (train) :', X_train.shape, y_train.shape)\n",
        "print('shape of X and y respectively (test) :', X_test.shape, y_test.shape)"
      ],
      "metadata": {
        "trusted": true,
        "id": "JAKs_CAZNx2Q"
      },
      "execution_count": null,
      "outputs": []
    },
    {
      "cell_type": "markdown",
      "source": [
        "# Random Forest Classifier"
      ],
      "metadata": {
        "id": "Rg3yqnLFNx2Q"
      }
    },
    {
      "cell_type": "code",
      "source": [
        "print('RandomForestClassifier')\n",
        "from sklearn.ensemble import RandomForestClassifier\n",
        "model = RandomForestClassifier(n_estimators=100) # , max_depth=5, random_state=1\n",
        "model.fit(X_train, y_train)\n",
        "Y_pred = model.predict(X_test)\n",
        "score = model.score(X_train, y_train)\n",
        "print('Training Score:', score)\n",
        "score = model.score(X_test, y_test)\n",
        "print('Testing Score:', score)\n",
        "output = pd.DataFrame({'Predicted':Y_pred}) # Heart-Disease yes or no? 1/0\n",
        "print(output.head())\n",
        "people = output.loc[output.Predicted == 1][\"Predicted\"]\n",
        "rate_people = 0\n",
        "if len(people) > 0 :\n",
        "    rate_people = len(people)/len(output)\n",
        "print(\"% of people predicted with heart-disease:\", rate_people)\n",
        "score_rfc = score\n",
        "out_rfc = output\n",
        "from sklearn.metrics import classification_report\n",
        "print(classification_report(y_test,Y_pred))"
      ],
      "metadata": {
        "execution": {
          "iopub.status.busy": "2023-12-22T19:36:04.916226Z",
          "iopub.execute_input": "2023-12-22T19:36:04.916629Z",
          "iopub.status.idle": "2023-12-22T19:36:05.180474Z",
          "shell.execute_reply.started": "2023-12-22T19:36:04.916595Z",
          "shell.execute_reply": "2023-12-22T19:36:05.179618Z"
        },
        "trusted": true,
        "id": "MY9J6i4PNx2Q"
      },
      "execution_count": null,
      "outputs": []
    },
    {
      "cell_type": "code",
      "source": [
        "from sklearn.metrics import confusion_matrix\n",
        "confusion_matrix = confusion_matrix(y_test,Y_pred)\n",
        "class_names = [0,1]\n",
        "fig,ax = plt.subplots()\n",
        "tick_marks = np.arange(len(class_names))\n",
        "plt.xticks(tick_marks,class_names)\n",
        "plt.yticks(tick_marks,class_names)\n",
        "sns.heatmap(pd.DataFrame(confusion_matrix), annot = True, cmap = 'Greens', fmt = 'g')\n",
        "ax.xaxis.set_label_position('top')\n",
        "plt.tight_layout()\n",
        "plt.title('Confusion matrix for random forest')\n",
        "plt.ylabel('Actual label')\n",
        "plt.xlabel('Predicted label')\n",
        "plt.show()"
      ],
      "metadata": {
        "execution": {
          "iopub.status.busy": "2023-12-22T19:36:26.516029Z",
          "iopub.execute_input": "2023-12-22T19:36:26.516389Z",
          "iopub.status.idle": "2023-12-22T19:36:26.771845Z",
          "shell.execute_reply.started": "2023-12-22T19:36:26.516359Z",
          "shell.execute_reply": "2023-12-22T19:36:26.771024Z"
        },
        "trusted": true,
        "id": "RBWFfTpaNx2Q"
      },
      "execution_count": null,
      "outputs": []
    },
    {
      "cell_type": "code",
      "source": [
        "# ROC Curve\n",
        "from sklearn.metrics import roc_auc_score,roc_curve\n",
        "y_probabilities = model.predict_proba(X_test)[:,1]\n",
        "false_positive_rate, true_positive_rate, threshold_knn = roc_curve(y_test,y_probabilities)\n",
        "plt.figure(figsize=(10,6))\n",
        "plt.title('ROC for random forest')\n",
        "plt.plot(false_positive_rate, true_positive_rate, linewidth=5, color='green')\n",
        "plt.plot([0,1],ls='--',linewidth=5)\n",
        "plt.plot([0,0],[1,0],c='.5')\n",
        "plt.plot([1,1],c='.5')\n",
        "plt.text(0.2,0.6,'AUC: {:.2f}'.format(roc_auc_score(y_test,y_probabilities)),size= 16)\n",
        "plt.xlabel('False Positive Rate')\n",
        "plt.ylabel('True Positive Rate')\n",
        "plt.show()"
      ],
      "metadata": {
        "execution": {
          "iopub.status.busy": "2023-12-22T19:36:42.95457Z",
          "iopub.execute_input": "2023-12-22T19:36:42.955233Z",
          "iopub.status.idle": "2023-12-22T19:36:43.189899Z",
          "shell.execute_reply.started": "2023-12-22T19:36:42.955195Z",
          "shell.execute_reply": "2023-12-22T19:36:43.18905Z"
        },
        "trusted": true,
        "id": "6pKZz5XBNx2Q"
      },
      "execution_count": null,
      "outputs": []
    },
    {
      "cell_type": "code",
      "source": [
        "def predict_heart_attack_risk(age, sex, cp, trestbps, chol, fbs, restecg, thalach, exang, oldpeak, slope, ca, thal):\n",
        "    input_data = {\n",
        "        'age': [age],\n",
        "        'sex': [sex],\n",
        "        'cp': [cp],\n",
        "        'trestbps': [trestbps],\n",
        "        'chol': [chol],\n",
        "        'fbs': [fbs],\n",
        "        'restecg': [restecg],\n",
        "        'thalach': [thalach],\n",
        "        'exang': [exang],\n",
        "        'oldpeak': [oldpeak],\n",
        "        'slope': [slope],\n",
        "        'ca': [ca],\n",
        "        'thal': [thal]\n",
        "    }\n",
        "    input_df = pd.DataFrame(input_data)\n",
        "    prediction = model.predict(input_df)[0]\\\n",
        "    return prediction\n"
      ],
      "metadata": {
        "execution": {
          "iopub.status.busy": "2023-12-22T19:42:03.492846Z",
          "iopub.execute_input": "2023-12-22T19:42:03.493266Z",
          "iopub.status.idle": "2023-12-22T19:42:03.504056Z",
          "shell.execute_reply.started": "2023-12-22T19:42:03.493232Z",
          "shell.execute_reply": "2023-12-22T19:42:03.503129Z"
        },
        "trusted": true,
        "id": "dKcJMQ5lNx2Q"
      },
      "execution_count": null,
      "outputs": []
    },
    {
      "cell_type": "code",
      "source": [
        "age = 45\n",
        "sex = 1\n",
        "cp = 2\n",
        "trestbps = 140\n",
        "chol = 230\n",
        "fbs = 0\n",
        "restecg = 1\n",
        "thalach = 160\n",
        "exang = 0\n",
        "oldpeak = 1.5\n",
        "slope = 2\n",
        "ca = 0\n",
        "thal = 3\n",
        "\n",
        "prediction = predict_heart_attack_risk(age, sex, cp, trestbps, chol, fbs, restecg, thalach, exang, oldpeak, slope, ca, thal)\n",
        "\n",
        "if prediction == 1:\n",
        "    print(\"This person have a heart disease\")\n",
        "else:\n",
        "    print(\"This person dont have any heart disease\")\n"
      ],
      "metadata": {
        "execution": {
          "iopub.status.busy": "2023-12-22T19:42:31.907663Z",
          "iopub.execute_input": "2023-12-22T19:42:31.90802Z",
          "iopub.status.idle": "2023-12-22T19:42:31.939289Z",
          "shell.execute_reply.started": "2023-12-22T19:42:31.90799Z",
          "shell.execute_reply": "2023-12-22T19:42:31.938478Z"
        },
        "trusted": true,
        "id": "0DROaW6dNx2Q"
      },
      "execution_count": null,
      "outputs": []
    }
  ]
}